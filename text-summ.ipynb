{
 "cells": [
  {
   "cell_type": "code",
   "execution_count": 13,
   "metadata": {
    "_cell_guid": "b1076dfc-b9ad-4769-8c92-a6c4dae69d19",
    "_uuid": "8f2839f25d086af736a60e9eeb907d3b93b6e0e5",
    "execution": {
     "iopub.execute_input": "2025-05-10T10:37:38.415385Z",
     "iopub.status.busy": "2025-05-10T10:37:38.415079Z",
     "iopub.status.idle": "2025-05-10T10:39:43.675200Z",
     "shell.execute_reply": "2025-05-10T10:39:43.674406Z",
     "shell.execute_reply.started": "2025-05-10T10:37:38.415362Z"
    }
   },
   "outputs": [
    {
     "name": "stderr",
     "output_type": "stream",
     "text": [
      "Device set to use cpu\n"
     ]
    },
    {
     "name": "stdout",
     "output_type": "stream",
     "text": [
      "\n",
      "\n",
      " Train Dataset Example:\n",
      "==============================\n",
      " Original Article:\n",
      " by . associated press . published: . 14:11 est, 25 october 2013 . | . updated: . 15:36 est, 25 october 2013 . the bishop of the fargo catholic diocese in north dakota has exposed potentially hundreds of church members in fargo, grand forks and jamestown to the hepatitis a virus in late september and early october. the state health department has issued an advisory of exposure for anyone who attended five churches and took communion. bishop john folda (pictured) of the fargo catholic diocese in n ...\n",
      "\n",
      " Generated Summary:\n",
      " Bishop john folda of the fargo catholic diocese in north dakota has exposed potentially hundreds of church members in fargo, grand forks and jamestown to the hepatitis a virus. The state health department has issued an advisory of exposure for anyone who attended five churches and took communion.\n",
      " Reference Summary:\n",
      " bishop john folda, of north dakota, is taking time off after being diagnosed . he contracted the infection through contaminated food in italy . church members in fargo, grand forks and jamestown could have been exposed .\n",
      " ROUGE Scores: {'rouge1': Score(precision=0.3541666666666667, recall=0.5, fmeasure=0.4146341463414634), 'rouge2': Score(precision=0.23404255319148937, recall=0.3333333333333333, fmeasure=0.275), 'rougeL': Score(precision=0.2916666666666667, recall=0.4117647058823529, fmeasure=0.34146341463414637)}\n",
      "\n",
      "\n",
      " Validation Dataset Example:\n",
      "==============================\n",
      " Original Article:\n",
      " sally forrest, an actress-dancer who graced the silver screen throughout the '40s and '50s in mgm musicals and films such as the 1956 noir while the city sleeps died on march 15 at her home in beverly hills, california. forrest, whose birth name was katherine feeney, was 86 and had long battled cancer. her publicist, judith goffin, announced the news thursday. scroll down for video . actress: sally forrest was in the 1951 ida lupino-directed film 'hard, fast and beautiful' (left) and the 1956 fr ...\n",
      "\n",
      " Generated Summary:\n",
      "  sally forrest was an actress-dancer who graced the silver screen throughout the '40s and '50s in mgm musicals and films such as the 1956 noir while the city sleeps. forrest, whose birth name was katherine feeney, was 86 and had long battled cancer. a san diego native, forrest became a protege of hollywood trailblazer ida lupino.\n",
      " Reference Summary:\n",
      " sally forrest, an actress-dancer who graced the silver screen throughout the '40s and '50s in mgm musicals and films died on march 15 . forrest, whose birth name was katherine feeney, had long battled cancer . a san diego native, forrest became a protege of hollywood trailblazer ida lupino, who cast her in starring roles in films .\n",
      " ROUGE Scores: {'rouge1': Score(precision=0.7719298245614035, recall=0.7857142857142857, fmeasure=0.7787610619469025), 'rouge2': Score(precision=0.7142857142857143, recall=0.7272727272727273, fmeasure=0.7207207207207208), 'rougeL': Score(precision=0.7719298245614035, recall=0.7857142857142857, fmeasure=0.7787610619469025)}\n",
      "\n",
      "\n",
      " Test Dataset Example:\n",
      "==============================\n",
      " Original Article:\n",
      " ever noticed how plane seats appear to be getting smaller and smaller? with increasing numbers of people taking to the skies, some experts are questioning if having such packed out planes is putting passengers at risk. they say that the shrinking space on aeroplanes is not only uncomfortable - it's putting our health and safety in danger. more than squabbling over the arm rest, shrinking space on planes putting our health and safety in danger? this week, a u.s consumer advisory group set up by t ...\n",
      "\n",
      " Generated Summary:\n",
      " Shrinking space on aeroplanes is putting our health and safety in danger, say experts. Government is happy to set standards for animals flying on planes, but doesn't stipulate a minimum amount of space for humans.\n",
      " Reference Summary:\n",
      " experts question if packed out planes are putting passengers at risk . u.s consumer advisory group says minimum space must be stipulated . safety tests conducted on planes with more leg room than airlines offer .\n",
      " ROUGE Scores: {'rouge1': Score(precision=0.25, recall=0.2647058823529412, fmeasure=0.2571428571428572), 'rouge2': Score(precision=0.02857142857142857, recall=0.030303030303030304, fmeasure=0.029411764705882356), 'rougeL': Score(precision=0.1111111111111111, recall=0.11764705882352941, fmeasure=0.11428571428571428)}\n"
     ]
    }
   ],
   "source": [
    "# Suppress CUDA warnings (since you're using CPU)\n",
    "import os\n",
    "import warnings\n",
    "\n",
    "os.environ[\"CUDA_VISIBLE_DEVICES\"] = \"-1\"  # Disable CUDA\n",
    "warnings.filterwarnings(\"ignore\", category=UserWarning, module='tensorflow')\n",
    "warnings.filterwarnings(\"ignore\", category=UserWarning, module='torch')\n",
    "\n",
    "import pandas as pd\n",
    "import re\n",
    "from transformers import pipeline\n",
    "from rouge_score import rouge_scorer\n",
    "\n",
    "# Load datasets from the Kaggle input directory\n",
    "train_df = pd.read_csv('/kaggle/input/text-summarization/train.csv')\n",
    "val_df = pd.read_csv('/kaggle/input/text-summarization/validation.csv')\n",
    "test_df = pd.read_csv('/kaggle/input/text-summarization/test.csv')\n",
    "\n",
    "# Text cleaning function\n",
    "def clean_text(text):\n",
    "    text = str(text).lower()\n",
    "    text = re.sub(r'\\s+', ' ', text)\n",
    "    text = re.sub(r'\\[.*?\\]', '', text)\n",
    "    return text.strip()\n",
    "\n",
    "# Clean all datasets\n",
    "for df in [train_df, val_df, test_df]:\n",
    "    df['clean_article'] = df['article'].apply(clean_text)\n",
    "    df['clean_summary'] = df['highlights'].apply(clean_text)  # Using 'highlights' as the summary column\n",
    "\n",
    "# Load summarization pipeline (BART for CNN/DailyMail)\n",
    "summarizer = pipeline(\"summarization\", model=\"facebook/bart-large-cnn\", device=-1)\n",
    "\n",
    "# Abstractive summarization function\n",
    "def abstractive_summary(text, max_len=120, min_len=30):\n",
    "    text = ' '.join(text.split()[:400])  # Truncate long articles\n",
    "    summary = summarizer(text, max_length=max_len, min_length=min_len, do_sample=False)\n",
    "    return summary[0]['summary_text']\n",
    "\n",
    "# Initialize ROUGE scorer\n",
    "scorer = rouge_scorer.RougeScorer(['rouge1', 'rouge2', 'rougeL'], use_stemmer=True)\n",
    "\n",
    "# Pick 1 article from each dataset to summarize and evaluate\n",
    "datasets = {'Train': train_df, 'Validation': val_df, 'Test': test_df}\n",
    "\n",
    "for name, df in datasets.items():\n",
    "    print(f\"\\n\\n {name} Dataset Example:\\n{'=' * 30}\")\n",
    "    article = df['clean_article'].iloc[0]\n",
    "    reference = df['clean_summary'].iloc[0]\n",
    "    generated = abstractive_summary(article)\n",
    "\n",
    "    print(\" Original Article:\\n\", article[:500], \"...\\n\")\n",
    "    print(\" Generated Summary:\\n\", generated)\n",
    "    print(\" Reference Summary:\\n\", reference)\n",
    "\n",
    "    # ROUGE evaluation\n",
    "    score = scorer.score(reference, generated)\n",
    "    print(\" ROUGE Scores:\", score)\n"
   ]
  },
  {
   "cell_type": "code",
   "execution_count": null,
   "metadata": {},
   "outputs": [],
   "source": []
  },
  {
   "cell_type": "code",
   "execution_count": null,
   "metadata": {},
   "outputs": [],
   "source": []
  },
  {
   "cell_type": "code",
   "execution_count": null,
   "metadata": {},
   "outputs": [],
   "source": []
  }
 ],
 "metadata": {
  "kaggle": {
   "accelerator": "nvidiaTeslaT4",
   "dataSources": [
    {
     "datasetId": 1654566,
     "sourceId": 2734496,
     "sourceType": "datasetVersion"
    },
    {
     "datasetId": 7381346,
     "sourceId": 11757996,
     "sourceType": "datasetVersion"
    }
   ],
   "dockerImageVersionId": 31011,
   "isGpuEnabled": true,
   "isInternetEnabled": true,
   "language": "python",
   "sourceType": "notebook"
  },
  "kernelspec": {
   "display_name": "Python 3 (ipykernel)",
   "language": "python",
   "name": "python3"
  },
  "language_info": {
   "codemirror_mode": {
    "name": "ipython",
    "version": 3
   },
   "file_extension": ".py",
   "mimetype": "text/x-python",
   "name": "python",
   "nbconvert_exporter": "python",
   "pygments_lexer": "ipython3",
   "version": "3.12.4"
  }
 },
 "nbformat": 4,
 "nbformat_minor": 4
}
